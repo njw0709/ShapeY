{
 "cells": [
  {
   "cell_type": "code",
   "execution_count": 1,
   "metadata": {},
   "outputs": [],
   "source": [
    "import shapey"
   ]
  },
  {
   "cell_type": "code",
   "execution_count": 2,
   "metadata": {},
   "outputs": [],
   "source": [
    "from shapey.utils.customdataset import FeatureTensorDatasetWithImgName, ImageFolderWithPaths, OriginalandPostProcessedPairsDataset"
   ]
  },
  {
   "cell_type": "code",
   "execution_count": 1,
   "metadata": {},
   "outputs": [
    {
     "name": "stdout",
     "output_type": "stream",
     "text": [
      "3\n"
     ]
    }
   ],
   "source": [
    "for i in range(10):\n",
    "    if not i==3:\n",
    "        continue\n",
    "    print(i)"
   ]
  },
  {
   "cell_type": "code",
   "execution_count": 1,
   "metadata": {},
   "outputs": [
    {
     "name": "stdout",
     "output_type": "stream",
     "text": [
      "a\n",
      "\n",
      "b\n",
      "\n",
      "1\n",
      "Traceback (most recent call last):\n",
      "\n",
      "  File \"../sample.py\", line 3, in <module>\n",
      "\n",
      "    raise Exception('stop')\n",
      "\n",
      "Exception: stop\n",
      "\n",
      "done\n"
     ]
    }
   ],
   "source": [
    "import subprocess\n",
    "\n",
    "def execute(cmd):\n",
    "    popen = subprocess.Popen(cmd, stdout=subprocess.PIPE, stderr=subprocess.PIPE, universal_newlines=True)\n",
    "    for stdout_line in iter(popen.stdout.readline, \"\"):\n",
    "        yield stdout_line \n",
    "    popen.stdout.close()\n",
    "    return_code = popen.wait()\n",
    "    print(return_code)\n",
    "    if return_code:\n",
    "        for stdout_line in iter(popen.stderr.readline, \"\"):\n",
    "            yield stdout_line\n",
    "# Example\n",
    "# p = execute([\"ls\", \"-l\"])\n",
    "for path in execute([\"python3.6\", \"../sample.py\"]):\n",
    "    # print(path, end=\"\")\n",
    "    print(path)\n",
    "\n",
    "print('done')"
   ]
  },
  {
   "cell_type": "code",
   "execution_count": 11,
   "metadata": {},
   "outputs": [],
   "source": []
  },
  {
   "cell_type": "code",
   "execution_count": null,
   "metadata": {},
   "outputs": [],
   "source": []
  }
 ],
 "metadata": {
  "interpreter": {
   "hash": "31f2aee4e71d21fbe5cf8b01ff0e069b9275f58929596ceb00d14d90e3e16cd6"
  },
  "kernelspec": {
   "display_name": "Python 3.6.9 64-bit",
   "name": "python3"
  },
  "language_info": {
   "codemirror_mode": {
    "name": "ipython",
    "version": 3
   },
   "file_extension": ".py",
   "mimetype": "text/x-python",
   "name": "python",
   "nbconvert_exporter": "python",
   "pygments_lexer": "ipython3",
   "version": "3.6.9"
  },
  "orig_nbformat": 4
 },
 "nbformat": 4,
 "nbformat_minor": 2
}
